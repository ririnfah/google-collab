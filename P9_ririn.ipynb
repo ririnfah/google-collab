{
  "nbformat": 4,
  "nbformat_minor": 0,
  "metadata": {
    "colab": {
      "name": "P9-ririn.ipynb",
      "provenance": [],
      "authorship_tag": "ABX9TyOOo6AuvQi50hmoJwoFi8fY",
      "include_colab_link": true
    },
    "kernelspec": {
      "name": "python3",
      "display_name": "Python 3"
    },
    "language_info": {
      "name": "python"
    }
  },
  "cells": [
    {
      "cell_type": "markdown",
      "metadata": {
        "id": "view-in-github",
        "colab_type": "text"
      },
      "source": [
        "<a href=\"https://colab.research.google.com/github/ririnfah/google-collab/blob/main/P9_ririn.ipynb\" target=\"_parent\"><img src=\"https://colab.research.google.com/assets/colab-badge.svg\" alt=\"Open In Colab\"/></a>"
      ]
    },
    {
      "cell_type": "code",
      "execution_count": null,
      "metadata": {
        "colab": {
          "base_uri": "https://localhost:8080/"
        },
        "id": "PvcIIPGhEyZI",
        "outputId": "89d4f3d4-723b-4455-af8f-b99116fefcab"
      },
      "outputs": [
        {
          "output_type": "stream",
          "name": "stdout",
          "text": [
            "0.8070175438596491\n",
            "0.9122807017543859\n",
            "0.9298245614035088\n",
            "0.8596491228070176\n",
            "0.9473684210526315\n",
            "0.9649122807017544\n",
            "0.9122807017543859\n",
            "0.9473684210526315\n",
            "0.8771929824561403\n",
            "0.9642857142857143\n"
          ]
        }
      ],
      "source": [
        "import pandas as pd\n",
        "import numpy as np\n",
        "import json\n",
        "from sklearn.model_selection import KFold\n",
        "from sklearn.model_selection import train_test_split\n",
        "from sklearn.neighbors import KNeighborsClassifier\n",
        "from sklearn import preprocessing\n",
        "\n",
        "#contoh DataFrame\n",
        "df_new = pd.read_csv('https://archive.ics.uci.edu/ml/machine-learning-databases/breast-cancer-wisconsin/wdbc.data', header=None, dtype=None)\n",
        "label = df_new[1].to_numpy()\n",
        "data = df_new.iloc[:,2:len(df_new)-1].to_numpy()\n",
        "\n",
        "kf = KFold(n_splits=10)\n",
        "clf = KNeighborsClassifier(n_neighbors=1)\n",
        "\n",
        "for train_index, test_index in kf.split(data):\n",
        "  x_train, x_test = data[train_index], data[test_index]\n",
        "  y_train, y_test = label[train_index], label[test_index]\n",
        "  \n",
        "  clf.fit(x_train, y_train)\n",
        "  res = clf.score(x_test, y_test)\n",
        "  print(res)"
      ]
    }
  ]
}