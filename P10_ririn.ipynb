{
  "nbformat": 4,
  "nbformat_minor": 0,
  "metadata": {
    "colab": {
      "name": "P10-ririn.ipynb",
      "provenance": [],
      "authorship_tag": "ABX9TyNNyBP9qoNNJIWNLQFkCv9u",
      "include_colab_link": true
    },
    "kernelspec": {
      "name": "python3",
      "display_name": "Python 3"
    },
    "language_info": {
      "name": "python"
    }
  },
  "cells": [
    {
      "cell_type": "markdown",
      "metadata": {
        "id": "view-in-github",
        "colab_type": "text"
      },
      "source": [
        "<a href=\"https://colab.research.google.com/github/ririnfah/google-collab/blob/main/P10_ririn.ipynb\" target=\"_parent\"><img src=\"https://colab.research.google.com/assets/colab-badge.svg\" alt=\"Open In Colab\"/></a>"
      ]
    },
    {
      "cell_type": "code",
      "execution_count": 4,
      "metadata": {
        "colab": {
          "base_uri": "https://localhost:8080/",
          "height": 132
        },
        "id": "VIzRYkK3ZS0y",
        "outputId": "7b0937f2-fc1a-4837-fd05-a80bb15a9678"
      },
      "outputs": [
        {
          "output_type": "error",
          "ename": "SyntaxError",
          "evalue": "ignored",
          "traceback": [
            "\u001b[0;36m  File \u001b[0;32m\"<ipython-input-4-7ae51af29a5c>\"\u001b[0;36m, line \u001b[0;32m14\u001b[0m\n\u001b[0;31m    x_train, x_test, y_train, y_test = train_test_split(x, y test_size=0.5, random_state=0)\u001b[0m\n\u001b[0m                                                                     ^\u001b[0m\n\u001b[0;31mSyntaxError\u001b[0m\u001b[0;31m:\u001b[0m invalid syntax\n"
          ]
        }
      ],
      "source": [
        "import pandas as pd\n",
        "import numpy as np\n",
        "import matplotlib.pyplot as plt\n",
        "import io\n",
        "from sklearn.model_selection import train_test_split\n",
        "from sklearn.linear_model import LinearRegression\n",
        "from sklearn.metrics import mean_squared_error, r2_score\n",
        "\n",
        "dataset = pd.read_csv(\"https://raw.githubusercontent.com/ririnfah/google-collab/main/student_scores.csv\", header=None, delimiter=\";\")\n",
        "\n",
        "x = dataset.iloc[:, :-1].values\n",
        "y = dataset.iloc[:, 1].values\n",
        "\n",
        "x_train, x_test, y_train, y_test = train_test_split(x, y test_size=0.5, random_state=0)\n",
        "\n",
        "regressor = LinearRegression()\n",
        "regressor.fit(x_train, y_train)\n",
        "\n",
        "y_pred = regressor.predict(x_test)\n",
        "df = pd.DataFrame({'Actual': y_test, 'Predicted': y_pred})\n",
        "print(\"Nilai prediksi vs nilai sebenarnya:\")\n",
        "print(df)\n",
        "print(\"Hasil dari Mean Square Error:\")\n",
        "print(mean_squared_error(y_test, y_pred))\n",
        "\n",
        "plt.scatter(x_test, y_test, color='black')\n",
        "plt.plot(x_test, y_pred, color='red', linewidth=3)\n",
        "plt.title('Hours vs Percentage')\n",
        "plt.xlabel('Hours Studied')\n",
        "plt.ylabel('Percenage Score')\n",
        "plt.show()"
      ]
    },
    {
      "cell_type": "code",
      "source": [
        "import pandas as pd\n",
        "import numpy as np\n",
        "import matplotlib.pyplot as plt\n",
        "import io\n",
        "from sklearn.model_selection import train_test_split\n",
        "from sklearn.linear_model import LinearRegression\n",
        "from sklearn.metrics import mean_squared_error, r2_score\n",
        "\n",
        "dataset = pd.read_csv(\"https://raw.githubusercontent.com/ririnfah/google-collab/main/student_scores.csv\", header=None, delimiter=\";\")\n",
        "\n",
        "x = dataset.iloc[:, :-1].values\n",
        "y = dataset.iloc[:, 1].values\n",
        "x_train, x_test, y_train, y_test = train_test_split(x, y test_size=0.5, random_state=0)\n",
        "\n",
        "regressor = LinearRegression()\n",
        "regressor.fit(x_train, y_train)\n",
        "\n",
        "y_pred = regressor.predict(x_test)\n",
        "df = pd.DataFrame({'Actual': y_test, 'Predicted': y_pred})\n",
        "print(\"Nilai prediksi vs nilai sebenarnya:\")\n",
        "print(df)\n",
        "print(\"Hasil dari Mean Square Error:\")\n",
        "print(mean_squared_error(y_test, y_pred))\n",
        "\n",
        "plt.scatter(x_test, y_test, color='black')\n",
        "plt.plot(x_test, y_pred, color='red', linewidth=3)\n",
        "plt.title('Hours vs Percentage')\n",
        "plt.xlabel('Hours Studied')\n",
        "plt.ylabel('Percenage Score')\n",
        "plt.show()"
      ],
      "metadata": {
        "colab": {
          "base_uri": "https://localhost:8080/",
          "height": 132
        },
        "id": "2LTERKHZ5nk3",
        "outputId": "7bf34cdc-0d9c-4765-c916-32a482448377"
      },
      "execution_count": 5,
      "outputs": [
        {
          "output_type": "error",
          "ename": "SyntaxError",
          "evalue": "ignored",
          "traceback": [
            "\u001b[0;36m  File \u001b[0;32m\"<ipython-input-5-0ed8286b9b7b>\"\u001b[0;36m, line \u001b[0;32m13\u001b[0m\n\u001b[0;31m    x_train, x_test, y_train, y_test = train_test_split(x, y test_size=0.5, random_state=0)\u001b[0m\n\u001b[0m                                                                     ^\u001b[0m\n\u001b[0;31mSyntaxError\u001b[0m\u001b[0;31m:\u001b[0m invalid syntax\n"
          ]
        }
      ]
    },
    {
      "cell_type": "code",
      "source": [
        "from google.colab import drive\n",
        "drive.mount('/content/drive')"
      ],
      "metadata": {
        "colab": {
          "base_uri": "https://localhost:8080/"
        },
        "id": "Bd73hzDtwwXX",
        "outputId": "ea8b83ce-03f8-401a-9baf-800565be2d3e"
      },
      "execution_count": 1,
      "outputs": [
        {
          "output_type": "stream",
          "name": "stdout",
          "text": [
            "Mounted at /content/drive\n"
          ]
        }
      ]
    }
  ]
}