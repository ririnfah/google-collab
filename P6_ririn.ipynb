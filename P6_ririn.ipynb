{
  "nbformat": 4,
  "nbformat_minor": 0,
  "metadata": {
    "colab": {
      "name": "P6-ririn.ipynb",
      "provenance": [],
      "authorship_tag": "ABX9TyPtrQZ/CBL4xaky9pR5aViV",
      "include_colab_link": true
    },
    "kernelspec": {
      "name": "python3",
      "display_name": "Python 3"
    },
    "language_info": {
      "name": "python"
    }
  },
  "cells": [
    {
      "cell_type": "markdown",
      "metadata": {
        "id": "view-in-github",
        "colab_type": "text"
      },
      "source": [
        "<a href=\"https://colab.research.google.com/github/ririnfah/google-collab/blob/main/P6_ririn.ipynb\" target=\"_parent\"><img src=\"https://colab.research.google.com/assets/colab-badge.svg\" alt=\"Open In Colab\"/></a>"
      ]
    },
    {
      "cell_type": "markdown",
      "source": [
        "**Slide 9**"
      ],
      "metadata": {
        "id": "R5qS14tpuY3m"
      }
    },
    {
      "cell_type": "code",
      "execution_count": null,
      "metadata": {
        "colab": {
          "base_uri": "https://localhost:8080/",
          "height": 334
        },
        "id": "Xr7eDNw0uK6G",
        "outputId": "69c114db-0d66-42e7-9cf6-02daa59b1bb1"
      },
      "outputs": [
        {
          "output_type": "stream",
          "name": "stdout",
          "text": [
            "[[43.2        16.7       ]\n",
            " [30.83333333 74.66666667]\n",
            " [55.1        46.1       ]\n",
            " [27.75       55.        ]]\n"
          ]
        },
        {
          "output_type": "display_data",
          "data": {
            "text/plain": [
              "<Figure size 432x288 with 1 Axes>"
            ],
            "image/png": "[encoded data removed]"
          },
          "metadata": {
            "needs_background": "light"
          }
        }
      ],
      "source": [
        "from pandas import DataFrame\n",
        "import matplotlib.pyplot as plt\n",
        "from sklearn.cluster import KMeans\n",
        "\n",
        "Data = {'x': [25,34,22,27,33,33,31,22,35,34,67,54,57,43,50,57,59,52,65,47,49,48,35,33,44,45,38,43,51,46],\n",
        "         'y': [79,51,53,78,59,74,73,57,69,75,51,32,40,47,53,36,35,58,59,50,25,20,14,12,20,5,29,27,8,7]\n",
        "        }\n",
        "\n",
        "df = DataFrame(Data,columns=['x','y'])\n",
        "\n",
        "kmeans = KMeans(n_clusters=4).fit(df) #proses pencarian cluster centers\n",
        "centroids = kmeans.cluster_centers_\n",
        "print(centroids) #tampilkan nilai cluster centers ke layar\n",
        "\n",
        "plt.scatter(df['x'],df['y'], c = kmeans.labels_.astype(float), s=50, alpha=0.5) #plotting data\n",
        "plt.scatter(centroids[:, 0], centroids[:, 1], c='red', s=50) #plotting cluster centers\n",
        "plt.show() #tampilkan gambar ke layar"
      ]
    },
    {
      "cell_type": "markdown",
      "source": [
        "**Slide 20**"
      ],
      "metadata": {
        "id": "dnbt05_1yShI"
      }
    },
    {
      "cell_type": "code",
      "source": [
        "from sklearn.linear_model import Perceptron #library scikit learn\n",
        "\n",
        "x = [[5.1,3.5,1.4,0.2],\n",
        "     [4.9,3.0,1.4,0.2],\n",
        "     [7.0,3.2,4.7,1.4],\n",
        "     [6.4,3.2,4.5,1.5],\n",
        "     [6.3,3.3,6.0,2.5],\n",
        "     [5.8,2.7,5.1,1.9]] #training set\n",
        "\n",
        "y = ['setosa', 'setosa', 'versicolor', 'versicolor', 'virginica', 'virginica'] #label\n",
        "\n",
        "per_clf = Perceptron() #pemanggilan library\n",
        "per_clf.fit(x, y) #proses training\n",
        "\n",
        "unlabelled = [[6.5,2.7,5.1,1.9]] #unlabelled\n",
        "\n",
        "y_pred = per_clf.predict(unlabelled)\n",
        "print(y_pred)"
      ],
      "metadata": {
        "colab": {
          "base_uri": "https://localhost:8080/"
        },
        "id": "9BB6fd78yURK",
        "outputId": "ff953135-2cae-470d-f604-c296b973a68e"
      },
      "execution_count": null,
      "outputs": [
        {
          "output_type": "stream",
          "name": "stdout",
          "text": [
            "['virginica']\n"
          ]
        }
      ]
    }
  ]
}