{
  "nbformat": 4,
  "nbformat_minor": 0,
  "metadata": {
    "colab": {
      "name": "TB1-ririn.ipynb",
      "provenance": [],
      "authorship_tag": "ABX9TyMf2SBM4A10/qvfRFZDT1Q7",
      "include_colab_link": true
    },
    "kernelspec": {
      "name": "python3",
      "display_name": "Python 3"
    },
    "language_info": {
      "name": "python"
    }
  },
  "cells": [
    {
      "cell_type": "markdown",
      "metadata": {
        "id": "view-in-github",
        "colab_type": "text"
      },
      "source": [
        "<a href=\"https://colab.research.google.com/github/ririnfah/google-collab/blob/main/TB1_ririn.ipynb\" target=\"_parent\"><img src=\"https://colab.research.google.com/assets/colab-badge.svg\" alt=\"Open In Colab\"/></a>"
      ]
    },
    {
      "cell_type": "code",
      "execution_count": null,
      "metadata": {
        "colab": {
          "base_uri": "https://localhost:8080/"
        },
        "id": "jSz5D26M1ht2",
        "outputId": "55d4f8bc-7616-4b08-b5b0-c4a1db6cd0b0"
      },
      "outputs": [
        {
          "output_type": "stream",
          "name": "stdout",
          "text": [
            "Hasil Prediction with Algoritm K-Nearest Neighbors :  ['Iris-setosa' 'Iris-versicolor' 'Iris Virginica' 'Iris-versicolor']\n",
            "Hasil Prediction with Algoritm Decision Tree :  ['Iris-setosa' 'Iris-versicolor' 'Iris Virginica' 'Iris Virginica']\n"
          ]
        }
      ],
      "source": [
        "from sklearn.tree import DecisionTreeClassifier\n",
        "from sklearn.neighbors import KNeighborsClassifier\n",
        "\n",
        "x_train = [[5.1, 3.5, 1.4, 0.2], [4.9, 3, 1.4, 0.2], [4.7, 3.2, 1.3, 0.2], \n",
        "          [4.6, 3.1, 1.5, 0.2], [5, 3.6, 1.4, 0.3], [7, 3.2, 4.7, 1.4], \n",
        "          [6.4, 3.2, 4.5, 1.5], [6.9, 3.1, 4.9, 1.5], [5.5, 2.3, 4, 1.3], \n",
        "          [6.5, 2.8, 4.6, 1.5], [6.3, 3.3, 6, 2.5], [5.8, 2.7, 5.1, 1.9], \n",
        "          [7.1, 3, 5.9, 2.1], [6.3, 2.9, 5.6, 1.8], [6.5, 3, 5.8, 2.2]]\n",
        "          \n",
        "y_train = [\"Iris-setosa\", \"Iris-setosa\", \"Iris-setosa\", \"Iris-setosa\", \"Iris-setosa\",\n",
        "           \"Iris-versicolor\", \"Iris-versicolor\", \"Iris-versicolor\", \"Iris-versicolor\", \"Iris-versicolor\",\n",
        "           \"Iris Virginica\",  \"Iris Virginica\",  \"Iris Virginica\", \"Iris Virginica\",  \"Iris Virginica\"]\n",
        "\n",
        "near = KNeighborsClassifier (n_neighbors = 3)\n",
        "tree = DecisionTreeClassifier()\n",
        "\n",
        "near.fit(x_train, y_train)\n",
        "tree.fit(x_train, y_train)\n",
        "\n",
        "unlabelled = [[5.4, 3.9, 1.7, 0.4], [5.2, 2.7, 3.9, 1.4], [7.6, 3, 6.6, 2.1], [6.3, 2.7, 4.9, 1.8]]\n",
        "\n",
        "hasil = near.predict (unlabelled)\n",
        "hasil2 = tree.predict (unlabelled)\n",
        "\n",
        "print ('Hasil Prediction with Algoritm K-Nearest Neighbors : ' , (hasil))\n",
        "print ('Hasil Prediction with Algoritm Decision Tree : ' , (hasil2))"
      ]
    },
    {
      "cell_type": "code",
      "source": [
        "from sklearn.tree import DecisionTreeClassifier\n",
        "from sklearn.neighbors import KNeighborsClassifier\n",
        "\n",
        "x_train = [[5.1, 3.5, 1.4, 0.2], [4.9, 3, 1.4, 0.2], [4.7, 3.2, 1.3, 0.2], \n",
        "          [4.6, 3.1, 1.5, 0.2], [5, 3.6, 1.4, 0.3], [7, 3.2, 4.7, 1.4], \n",
        "          [6.4, 3.2, 4.5, 1.5], [6.9, 3.1, 4.9, 1.5], [5.5, 2.3, 4, 1.3], \n",
        "          [6.5, 2.8, 4.6, 1.5], [6.3, 3.3, 6, 2.5], [5.8, 2.7, 5.1, 1.9], \n",
        "          [7.1, 3, 5.9, 2.1], [6.3, 2.9, 5.6, 1.8], [6.5, 3, 5.8, 2.2]]\n",
        "          \n",
        "y_train = [\"Iris-setosa\", \"Iris-setosa\", \"Iris-setosa\", \"Iris-setosa\", \"Iris-setosa\",\n",
        "           \"Iris-versicolor\", \"Iris-versicolor\", \"Iris-versicolor\", \"Iris-versicolor\", \"Iris-versicolor\",\n",
        "           \"Iris Virginica\",  \"Iris Virginica\",  \"Iris Virginica\", \"Iris Virginica\",  \"Iris Virginica\"]\n",
        "\n",
        "near = KNeighborsClassifier (n_neighbors = 2)\n",
        "tree = DecisionTreeClassifier()\n",
        "\n",
        "near.fit(x_train, y_train)\n",
        "tree.fit(x_train, y_train)\n",
        "\n",
        "unlabelled = [[5.4, 3.9, 1.7, 0.4], [5.2, 2.7, 3.9, 1.4], [7.6, 3, 6.6, 2.1], [6.3, 2.7, 4.9, 1.8]]\n",
        "\n",
        "hasil = near.predict (unlabelled)\n",
        "hasil2 = tree.predict (unlabelled)\n",
        "\n",
        "print ('Hasil Prediction with Algoritm K-Nearest Neighbors : ' , (hasil))\n",
        "print ('Hasil Prediction with Algoritm Decision Tree : ' , (hasil2))"
      ],
      "metadata": {
        "colab": {
          "base_uri": "https://localhost:8080/"
        },
        "id": "4mpNuous71dF",
        "outputId": "fe6dbb94-a7f2-4f74-c107-6afa2a121b3b"
      },
      "execution_count": null,
      "outputs": [
        {
          "output_type": "stream",
          "name": "stdout",
          "text": [
            "Hasil Prediction with Algoritm K-Nearest Neighbors :  ['Iris-setosa' 'Iris Virginica' 'Iris Virginica' 'Iris Virginica']\n",
            "Hasil Prediction with Algoritm Decision Tree :  ['Iris-setosa' 'Iris-versicolor' 'Iris Virginica' 'Iris-versicolor']\n"
          ]
        }
      ]
    },
    {
      "cell_type": "code",
      "source": [
        "from sklearn.tree import DecisionTreeClassifier\n",
        "from sklearn.neighbors import KNeighborsClassifier\n",
        "\n",
        "x_train = [[5.1, 3.5, 1.4, 0.2], [4.9, 3, 1.4, 0.2], [4.7, 3.2, 1.3, 0.2], \n",
        "          [4.6, 3.1, 1.5, 0.2], [5, 3.6, 1.4, 0.3], [7, 3.2, 4.7, 1.4], \n",
        "          [6.4, 3.2, 4.5, 1.5], [6.9, 3.1, 4.9, 1.5], [5.5, 2.3, 4, 1.3], \n",
        "          [6.5, 2.8, 4.6, 1.5], [6.3, 3.3, 6, 2.5], [5.8, 2.7, 5.1, 1.9], \n",
        "          [7.1, 3, 5.9, 2.1], [6.3, 2.9, 5.6, 1.8], [6.5, 3, 5.8, 2.2]]\n",
        "          \n",
        "y_train = [\"Iris-setosa\", \"Iris-setosa\", \"Iris-setosa\", \"Iris-setosa\", \"Iris-setosa\",\n",
        "           \"Iris-versicolor\", \"Iris-versicolor\", \"Iris-versicolor\", \"Iris-versicolor\", \"Iris-versicolor\",\n",
        "           \"Iris Virginica\",  \"Iris Virginica\",  \"Iris Virginica\", \"Iris Virginica\",  \"Iris Virginica\"]\n",
        "\n",
        "near = KNeighborsClassifier (n_neighbors = 1)\n",
        "tree = DecisionTreeClassifier()\n",
        "\n",
        "near.fit(x_train, y_train)\n",
        "tree.fit(x_train, y_train)\n",
        "\n",
        "unlabelled = [[5.4, 3.9, 1.7, 0.4], [5.2, 2.7, 3.9, 1.4], [7.6, 3, 6.6, 2.1], [6.3, 2.7, 4.9, 1.8]]\n",
        "\n",
        "hasil = near.predict (unlabelled)\n",
        "hasil2 = tree.predict (unlabelled)\n",
        "\n",
        "print ('Hasil Prediction with Algoritm K-Nearest Neighbors : ' , (hasil))\n",
        "print ('Hasil Prediction with Algoritm Decision Tree : ' , (hasil2))"
      ],
      "metadata": {
        "colab": {
          "base_uri": "https://localhost:8080/"
        },
        "id": "6aRckILrqSEx",
        "outputId": "8be6552c-6d8a-4eb4-916d-1c48a1a91fa0"
      },
      "execution_count": null,
      "outputs": [
        {
          "output_type": "stream",
          "name": "stdout",
          "text": [
            "Hasil Prediction with Algoritm K-Nearest Neighbors :  ['Iris-setosa' 'Iris-versicolor' 'Iris Virginica' 'Iris-versicolor']\n",
            "Hasil Prediction with Algoritm Decision Tree :  ['Iris-setosa' 'Iris-versicolor' 'Iris Virginica' 'Iris-versicolor']\n"
          ]
        }
      ]
    }
  ]
}