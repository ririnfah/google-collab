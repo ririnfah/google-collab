{
  "nbformat": 4,
  "nbformat_minor": 0,
  "metadata": {
    "colab": {
      "name": "P2.ipynb",
      "provenance": [],
      "authorship_tag": "ABX9TyMkvjnYSbq1DSHcZ8fjw+JI",
      "include_colab_link": true
    },
    "kernelspec": {
      "name": "python3",
      "display_name": "Python 3"
    },
    "language_info": {
      "name": "python"
    }
  },
  "cells": [
    {
      "cell_type": "markdown",
      "metadata": {
        "id": "view-in-github",
        "colab_type": "text"
      },
      "source": [
        "<a href=\"https://colab.research.google.com/github/ririnfah/google-collab/blob/main/P2.ipynb\" target=\"_parent\"><img src=\"https://colab.research.google.com/assets/colab-badge.svg\" alt=\"Open In Colab\"/></a>"
      ]
    },
    {
      "cell_type": "markdown",
      "source": [
        "1. Code untuk membuat “Hello World”"
      ],
      "metadata": {
        "id": "gjV3VfngVgi_"
      }
    },
    {
      "cell_type": "code",
      "execution_count": null,
      "metadata": {
        "colab": {
          "base_uri": "https://localhost:8080/"
        },
        "id": "aqBpVZEsKyx-",
        "outputId": "52b78fb0-e4d2-4560-94e7-866548630aa5"
      },
      "outputs": [
        {
          "output_type": "stream",
          "name": "stdout",
          "text": [
            "'Hello World'\n"
          ]
        }
      ],
      "source": [
        "print(\"'Hello World'\")"
      ]
    },
    {
      "cell_type": "markdown",
      "source": [
        "2. Contoh implementasi Library Numpy pada Google Colab"
      ],
      "metadata": {
        "id": "LdHVltyWVpbR"
      }
    },
    {
      "cell_type": "code",
      "source": [
        "import numpy as np\n",
        "\n",
        "test_array = np.array([1, 2, 3])\n",
        "print(test_array)"
      ],
      "metadata": {
        "colab": {
          "base_uri": "https://localhost:8080/"
        },
        "id": "WUMQyhuhOmkT",
        "outputId": "2eab31e0-9c17-456c-d6e1-e2ceb0c08a7b"
      },
      "execution_count": null,
      "outputs": [
        {
          "output_type": "stream",
          "name": "stdout",
          "text": [
            "[1 2 3]\n"
          ]
        }
      ]
    },
    {
      "cell_type": "markdown",
      "source": [
        "3. Contoh pemanggilan Library Pandas pada Google Colab"
      ],
      "metadata": {
        "id": "_e4PwVPDV4Ai"
      }
    },
    {
      "cell_type": "code",
      "source": [
        "import pandas as pd\n",
        "\n",
        "s = pd.Series([1, 3, 5, 7, 6, 8])\n",
        "print (s)"
      ],
      "metadata": {
        "colab": {
          "base_uri": "https://localhost:8080/"
        },
        "id": "Yo98oufLRxiG",
        "outputId": "40d68e0d-c7be-4645-f04f-88b63e933efe"
      },
      "execution_count": null,
      "outputs": [
        {
          "output_type": "stream",
          "name": "stdout",
          "text": [
            "0    1\n",
            "1    3\n",
            "2    5\n",
            "3    7\n",
            "4    6\n",
            "5    8\n",
            "dtype: int64\n"
          ]
        }
      ]
    },
    {
      "cell_type": "markdown",
      "source": [
        "4. Contoh pemanggilan Library Scikit-learn"
      ],
      "metadata": {
        "id": "nROUg3gEV-d6"
      }
    },
    {
      "cell_type": "code",
      "source": [
        "import sklearn\n",
        "\n",
        "print('The scikit-learn version is {}.'.format(sklearn.__version__))"
      ],
      "metadata": {
        "colab": {
          "base_uri": "https://localhost:8080/"
        },
        "id": "yOk0OoW-Uz12",
        "outputId": "36da9ac3-b710-41c8-fcb4-d51b62f8fda6"
      },
      "execution_count": null,
      "outputs": [
        {
          "output_type": "stream",
          "name": "stdout",
          "text": [
            "The scikit-learn version is 1.0.2.\n"
          ]
        }
      ]
    },
    {
      "cell_type": "markdown",
      "source": [
        "5. Pembuatan DataFrame dengan nama df pada Google Colab"
      ],
      "metadata": {
        "id": "ghez722qX60p"
      }
    },
    {
      "cell_type": "code",
      "source": [
        "import pandas as pd\n",
        "\n",
        "d = {'kolom 1': [1,2,3,4,5], 'kolom 2': [6,7,8,9,10]}\n",
        "df = pd.DataFrame(data=d)\n",
        "\n",
        "print(df)"
      ],
      "metadata": {
        "colab": {
          "base_uri": "https://localhost:8080/"
        },
        "id": "SmMIpjtGWEnV",
        "outputId": "af9724b3-81c6-4bf8-f638-ae2e13efd517"
      },
      "execution_count": null,
      "outputs": [
        {
          "output_type": "stream",
          "name": "stdout",
          "text": [
            "   kolom 1  kolom 2\n",
            "0        1        6\n",
            "1        2        7\n",
            "2        3        8\n",
            "3        4        9\n",
            "4        5       10\n"
          ]
        }
      ]
    },
    {
      "cell_type": "markdown",
      "source": [
        "6. Implementasi fungsi concat() untuk menggabungkan dua DataFrame yaitu df dan df2"
      ],
      "metadata": {
        "id": "kIfmKzzRX_h7"
      }
    },
    {
      "cell_type": "code",
      "source": [
        "import pandas as pd\n",
        "\n",
        "d = {'kolom 1': [1,2,3,4,5], 'kolom 2': [6,7,8,9,10]}\n",
        "df = pd.DataFrame(data=d)\n",
        "\n",
        "e = {'kolom 1': [11,12,13,14,15], 'kolom 2': [16,17,18,19,20]}\n",
        "df2 = pd.DataFrame(data=e)\n",
        "\n",
        "df_com = pd.concat([df,df2])\n",
        "\n",
        "print(df_com)"
      ],
      "metadata": {
        "colab": {
          "base_uri": "https://localhost:8080/"
        },
        "id": "oahwsl8jX3nh",
        "outputId": "ec3aaf99-2b95-428c-9a03-8ecf007b53a0"
      },
      "execution_count": null,
      "outputs": [
        {
          "output_type": "stream",
          "name": "stdout",
          "text": [
            "   kolom 1  kolom 2\n",
            "0        1        6\n",
            "1        2        7\n",
            "2        3        8\n",
            "3        4        9\n",
            "4        5       10\n",
            "0       11       16\n",
            "1       12       17\n",
            "2       13       18\n",
            "3       14       19\n",
            "4       15       20\n"
          ]
        }
      ]
    },
    {
      "cell_type": "markdown",
      "source": [
        "7. Impelementasi proses transpose matriks menggunakan pandas.DataFrame.transpose"
      ],
      "metadata": {
        "id": "bHrdhugDYvqd"
      }
    },
    {
      "cell_type": "code",
      "source": [
        "d = {'kolom 1': [1,2,3,4,5], 'kolom 2': [6,7,8,9,10]}\n",
        "df = pd.DataFrame(data=d)\n",
        "\n",
        "print(\"Sebelum transpose\")\n",
        "print(df)\n",
        "df_trans = df.T\n",
        "\n",
        "print(\"Setelah transpose\")\n",
        "print(df_trans)"
      ],
      "metadata": {
        "colab": {
          "base_uri": "https://localhost:8080/"
        },
        "id": "q5QYS1WsY4Va",
        "outputId": "cd503e40-ed62-4bf6-e9bf-f38a17e1e62d"
      },
      "execution_count": null,
      "outputs": [
        {
          "output_type": "stream",
          "name": "stdout",
          "text": [
            "Sebelum transpose\n",
            "   kolom 1  kolom 2\n",
            "0        1        6\n",
            "1        2        7\n",
            "2        3        8\n",
            "3        4        9\n",
            "4        5       10\n",
            "Setelah transpose\n",
            "         0  1  2  3   4\n",
            "kolom 1  1  2  3  4   5\n",
            "kolom 2  6  7  8  9  10\n"
          ]
        }
      ]
    },
    {
      "cell_type": "markdown",
      "source": [
        "8. Proses perkalian matriks menggunakan pandas.DataFrame.dot"
      ],
      "metadata": {
        "id": "H43TQLDkZjB-"
      }
    },
    {
      "cell_type": "code",
      "source": [
        "import pandas as pd\n",
        "\n",
        "df = pd.DataFrame([[0, 1, -2, -1], [1, 1, 1, 1]])\n",
        "other = pd.DataFrame([[0, 1], [1, 2], [-1, -1], [2, 0]])\n",
        "\n",
        "res = df.dot(other)\n",
        "\n",
        "print(res)"
      ],
      "metadata": {
        "colab": {
          "base_uri": "https://localhost:8080/"
        },
        "id": "iTAQ3cXhZkid",
        "outputId": "72e2ef05-852a-4b65-966d-f402a7d1b54e"
      },
      "execution_count": null,
      "outputs": [
        {
          "output_type": "stream",
          "name": "stdout",
          "text": [
            "   0  1\n",
            "0  1  4\n",
            "1  2  2\n"
          ]
        }
      ]
    },
    {
      "cell_type": "markdown",
      "source": [
        "9. Contoh implementasi DataFrame dan Matplotlib untuk membuat sebuah bar chart."
      ],
      "metadata": {
        "id": "OzqjBdpQazwe"
      }
    },
    {
      "cell_type": "code",
      "source": [
        "import pandas as pd\n",
        "import matplotlib.pyplot as plt\n",
        "\n",
        "df = pd.DataFrame({\n",
        "    'Nama':['Budi','Hasan','Made','Tretan','Coki','Jennie','Lisa'],\n",
        "    'Umur':[23,78,22,19,45,33,20],\n",
        "    'Gender':['M','F','M','M','M','F','M'],\n",
        "    'jumlah_anak':[2,0,0,3,2,1,4],\n",
        "    'jumlah_hewan':[5,1,0,5,2,2,3]\n",
        "})\n",
        "\n",
        "df.plot(kind='bar', x='Nama', y='jumlah_anak')"
      ],
      "metadata": {
        "colab": {
          "base_uri": "https://localhost:8080/",
          "height": 318
        },
        "id": "wlguHALAZkMA",
        "outputId": "c81a842f-8fd3-4b8d-83b6-d098214f07e6"
      },
      "execution_count": null,
      "outputs": [
        {
          "output_type": "execute_result",
          "data": {
            "text/plain": [
              "<matplotlib.axes._subplots.AxesSubplot at 0x7f7fb756c750>"
            ]
          },
          "metadata": {},
          "execution_count": 9
        },
        {
          "output_type": "display_data",
          "data": {
            "text/plain": [
              "<Figure size 432x288 with 1 Axes>"
            ],
            "image/png": "[encoded data removed]"
          },
          "metadata": {
            "needs_background": "light"
          }
        }
      ]
    },
    {
      "cell_type": "markdown",
      "source": [
        "10. Contoh implementasi DataFrame dan Matplotlib untuk membuat sebuah line chart"
      ],
      "metadata": {
        "id": "l8x3o3tpbzpo"
      }
    },
    {
      "cell_type": "code",
      "source": [
        "import pandas as pd\n",
        "import matplotlib.pyplot as plt\n",
        "\n",
        "df = pd.DataFrame({\n",
        "    'Nama':['Budi','Hasan','Made','Tretan','Coki','Jennie','Lisa'],\n",
        "    'Umur':[23,78,22,19,45,33,20],\n",
        "    'Gender':['M','F','M','M','M','F','M'],\n",
        "    'jumlah_anak':[2,0,0,3,2,1,4],\n",
        "    'jumlah_hewan':[5,1,0,5,2,2,3]\n",
        "})\n",
        "\n",
        "ax = plt.gca() #get current access\n",
        "\n",
        "df.plot(kind='line', x='Nama', y='jumlah_hewan', ax=ax)\n",
        "df.plot(kind='line', x='Nama', y='jumlah_anak', color='red', ax=ax)\n",
        "\n",
        "plt.show()"
      ],
      "metadata": {
        "colab": {
          "base_uri": "https://localhost:8080/",
          "height": 278
        },
        "id": "TEn0c2-Bb1rw",
        "outputId": "d4479858-b877-4388-9591-798fdc20ecb1"
      },
      "execution_count": null,
      "outputs": [
        {
          "output_type": "display_data",
          "data": {
            "text/plain": [
              "<Figure size 432x288 with 1 Axes>"
            ],
            "image/png": "[encoded data removed]"
          },
          "metadata": {
            "needs_background": "light"
          }
        }
      ]
    }
  ]
}