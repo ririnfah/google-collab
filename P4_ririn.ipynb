{
  "nbformat": 4,
  "nbformat_minor": 0,
  "metadata": {
    "colab": {
      "name": "P4-ririn.ipynb",
      "provenance": [],
      "authorship_tag": "ABX9TyPQT5VnDFFCEECNCDAI//uH",
      "include_colab_link": true
    },
    "kernelspec": {
      "name": "python3",
      "display_name": "Python 3"
    },
    "language_info": {
      "name": "python"
    }
  },
  "cells": [
    {
      "cell_type": "markdown",
      "metadata": {
        "id": "view-in-github",
        "colab_type": "text"
      },
      "source": [
        "<a href=\"https://colab.research.google.com/github/ririnfah/google-collab/blob/main/P4_ririn.ipynb\" target=\"_parent\"><img src=\"https://colab.research.google.com/assets/colab-badge.svg\" alt=\"Open In Colab\"/></a>"
      ]
    },
    {
      "cell_type": "markdown",
      "source": [
        "contoh"
      ],
      "metadata": {
        "id": "7XBljzpgmSrB"
      }
    },
    {
      "cell_type": "code",
      "execution_count": null,
      "metadata": {
        "colab": {
          "base_uri": "https://localhost:8080/"
        },
        "id": "lpiQWunbk79p",
        "outputId": "0662b01e-a5f6-404a-8f2b-bfe11aba7807"
      },
      "outputs": [
        {
          "output_type": "stream",
          "name": "stdout",
          "text": [
            "['manusia']\n"
          ]
        }
      ],
      "source": [
        "from sklearn.neighbors import KNeighborsClassifier #import library scikit learn\n",
        "\n",
        "x_train = [[2,2,50],[2,2,45],[4,0,300],[4,0,255]] #data training\n",
        "y_train = [\"manusia\",\"manusia\",\"sapi\",\"sapi\"] #label train\n",
        "\n",
        "near = KNeighborsClassifier(n_neighbors=1) #pemanggilan fungsi k-NN dengan k=1\n",
        "\n",
        "near.fit(x_train, y_train) #proses training\n",
        "\n",
        "unlabelled = [[2,2,150]] #unlabelled data\n",
        "\n",
        "hasil = near.predict(unlabelled) #proses klasifikasi\n",
        "\n",
        "print(hasil)"
      ]
    },
    {
      "cell_type": "markdown",
      "source": [
        "latihan menggunakan k-NN dari scikit-learn"
      ],
      "metadata": {
        "id": "yW7B4AtknaN7"
      }
    },
    {
      "cell_type": "code",
      "source": [
        "from sklearn.neighbors import KNeighborsClassifier \n",
        "\n",
        "x_train = [[2,2,50],[2,2,45],[4,0,300],[4,0,255]] \n",
        "y_train = [\"manusia\",\"manusia\",\"sapi\",\"sapi\"] \n",
        "\n",
        "near = KNeighborsClassifier(n_neighbors=1) \n",
        "\n",
        "near.fit(x_train, y_train) \n",
        "\n",
        "unlabelled = [[2,2,30],[4,0,332],[4,0,150]] \n",
        "\n",
        "hasil = near.predict(unlabelled) \n",
        "\n",
        "print(hasil)"
      ],
      "metadata": {
        "colab": {
          "base_uri": "https://localhost:8080/"
        },
        "id": "qvHu5qjQmnxA",
        "outputId": "59d98fab-272b-4739-9e54-22d420352481"
      },
      "execution_count": null,
      "outputs": [
        {
          "output_type": "stream",
          "name": "stdout",
          "text": [
            "['manusia' 'sapi' 'manusia']\n"
          ]
        }
      ]
    },
    {
      "cell_type": "markdown",
      "source": [
        "yang aneh dari hasil klasifikasinya. yaitu pada hasil prediksi ke-3.\n",
        "\n",
        "dimana jumlah kaki 4 di prediksi sbg manusia.\n",
        "\n"
      ],
      "metadata": {
        "id": "iU3pGq7LoxSx"
      }
    },
    {
      "cell_type": "code",
      "source": [
        "from sklearn.tree import DecisionTreeClassifier # import library scikit learn\n",
        "\n",
        "x_train = [[2,2,50],[2,2,45],[4,0,300],[4,0,255]] # training set\n",
        "y_train = [\"manusia\",\"manusia\",\"sapi\",\"sapi\"] # label train\n",
        "\n",
        "tree = DecisionTreeClassifier() # pemanggilan fungsi DecisionTreeClassifier\n",
        "\n",
        "tree.fit(x_train, y_train) # proses training\n",
        "\n",
        "unlabelled = [[4,0,150]] # unlabelled data\n",
        "\n",
        "hasil = tree.predict(unlabelled) # proses klasifikasi\n",
        "\n",
        "print(hasil)"
      ],
      "metadata": {
        "colab": {
          "base_uri": "https://localhost:8080/"
        },
        "id": "Yw272NAepjJb",
        "outputId": "cdf3a6a0-1af9-46b3-c2a0-c3a88ca2c8f5"
      },
      "execution_count": null,
      "outputs": [
        {
          "output_type": "stream",
          "name": "stdout",
          "text": [
            "['manusia']\n"
          ]
        }
      ]
    }
  ]
}